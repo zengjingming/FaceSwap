{
  "cells": [
    {
      "cell_type": "markdown",
      "metadata": {
        "id": "I1JZMs3kkp1w"
      },
      "source": [
        "<div align=\"center\">\n",
        "\n",
        "# <b>FaceDancer: Pose- and Occlusion-Aware High Fidelity Face Swapping</b>\n",
        "\n",
        "[![arXiv](https://img.shields.io/badge/arXiv-Paper-<COLOR>.svg)](https://arxiv.org/abs/2210.10473) [![License: CC BY-NC-SA 4.0](https://img.shields.io/badge/License-CC%20BY--NC--SA%204.0-lightgrey.svg)](https://creativecommons.org/licenses/by-nc-sa/4.0/)  [![GitHub Stars](https://img.shields.io/github/stars/felixrosberg/FaceDancer?affiliations=OWNER&color=green&style=social)](https://github.com/felixrosberg/FaceDancer) ![visitors](https://visitor-badge.laobi.icu/badge?page_id=felixrosberg/FaceDancer) [![Hugging Face](https://img.shields.io/badge/%F0%9F%A4%97%20Hugging%20Face-Spaces-blue)](https://huggingface.co/spaces/felixrosberg/face-swap)\n",
        "</div>\n",
        "\n",
        "Github: https://github.com/felixrosberg/FaceDancer\n",
        "\n",
        "HugginFace: https://huggingface.co/spaces/felixrosberg/face-swap"
      ]
    },
    {
      "attachments": {},
      "cell_type": "markdown",
      "metadata": {
        "id": "WgdGtYzHkp1y"
      },
      "source": [
        "## 1. 📋 Install requirements"
      ]
    },
    {
      "cell_type": "code",
      "execution_count": null,
      "metadata": {
        "id": "EZOrcKsLkp10"
      },
      "outputs": [],
      "source": [
        "# 1.1\n",
        "%cd /content\n",
        "!rm -rf FaceDancer &> /dev/null\n",
        "!git clone https://github.com/felixrosberg/FaceDancer.git\n",
        "!cd FaceDancer && git pull"
      ]
    },
    {
      "cell_type": "code",
      "execution_count": null,
      "metadata": {
        "id": "0voABiBzkp11"
      },
      "outputs": [],
      "source": [
        "# 1.2\n",
        "%cd /content/FaceDancer\n",
        "\n",
        "!pip install -q tensorflow\n",
        "!pip install -q -r requirements.txt\n",
        "!pip install -q --upgrade moviepy\n",
        "\n",
        "%reload_ext autoreload\n",
        "%autoreload"
      ]
    },
    {
      "cell_type": "code",
      "execution_count": null,
      "metadata": {
        "id": "KkELwd9DLjA2"
      },
      "outputs": [],
      "source": [
        "# 1.3\n",
        "%cd /content/FaceDancer\n",
        "\n",
        "!wget -q --show-progress -P ./arcface_model https://huggingface.co/felixrosberg/ArcFace/resolve/main/ArcFace-Res50.h5\n",
        "!wget -q --show-progress -P ./retinaface https://huggingface.co/felixrosberg/RetinaFace/resolve/main/RetinaFace-Res50.h5"
      ]
    },
    {
      "cell_type": "markdown",
      "metadata": {
        "id": "p5oxbacuNVZ-"
      },
      "source": [
        "# 2. 📋 Apply models from Google drive"
      ]
    },
    {
      "attachments": {},
      "cell_type": "markdown",
      "metadata": {
        "id": "uIPpAk3GTLn-"
      },
      "source": [
        "You need to upload the downloaded pretrained FaceDancer model from HugginFace (`FaceDancer_config_c_HQ.h5` or others) to your Google Drive. \n",
        " - Download a pretrained model weights from [here](https://huggingface.co/felixrosberg/FaceDancer).\n",
        " - Create **model_zoo** folder in the root of Gdrive and upload the models into it. it should look something like this:\n",
        "\n",
        "![3.PNG](data:image/png;base64,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)\n"
      ]
    },
    {
      "cell_type": "code",
      "execution_count": null,
      "metadata": {
        "id": "AE3VHjbmWmmu"
      },
      "outputs": [],
      "source": [
        "# 2.1 Mount your Gdrive\n",
        "%cd /content\n",
        "\n",
        "from google.colab import drive\n",
        "drive.mount('/content/drive')"
      ]
    },
    {
      "cell_type": "markdown",
      "metadata": {
        "id": "4pkvMKS8kp1-"
      },
      "source": [
        "## 🚀 Inference"
      ]
    },
    {
      "cell_type": "code",
      "execution_count": null,
      "metadata": {
        "id": "5FsBEIewX9Ea"
      },
      "outputs": [],
      "source": [
        "%cd /content/FaceDancer\n",
        "# Upload your source face with this cell or manually. File will be upload in FaceDancer dir\n",
        "\n",
        "from google.colab import files\n",
        "\n",
        "uploaded = files.upload()"
      ]
    },
    {
      "cell_type": "code",
      "execution_count": null,
      "metadata": {},
      "outputs": [],
      "source": [
        "%cd /content/FaceDancer\n",
        "# Upload your target video or image with this cell or manually. File will be upload in FaceDancer dir\n",
        "\n",
        "from google.colab import files\n",
        "\n",
        "uploaded = files.upload()"
      ]
    },
    {
      "cell_type": "code",
      "execution_count": null,
      "metadata": {
        "id": "Vah0sf4jkp2B"
      },
      "outputs": [],
      "source": [
        "%cd /content/FaceDancer\n",
        "# Video processing\n",
        "\n",
        "# facedancer_path - path to pretrained model on your Google drive\n",
        "# vid_path - path to target video. Change it to your path of the target video\n",
        "# swap_source - path to source face. Change it to your path of the source face\n",
        "\n",
        "facedancer_path = '/content/drive/MyDrive/model_zoo/FaceDancer_config_c_HQ.h5'\n",
        "\n",
        "vid_path = '/content/FaceDancer/video.mp4'\n",
        "swap_source = '/content/FaceDancer/face.jpg'\n",
        "vid_output = '/content/FaceDancer/swapped_video.mp4'\n",
        "\n",
        "!python -W ignore test_video_swap_multi.py --vid_path {vid_path} --swap_source {swap_source} --facedancer_path {facedancer_path} --vid_output {vid_output}"
      ]
    },
    {
      "cell_type": "code",
      "execution_count": null,
      "metadata": {
        "id": "knYtWnHbnWCg"
      },
      "outputs": [],
      "source": [
        "%cd /content/FaceDancer\n",
        "# Image processing\n",
        "\n",
        "# facedancer_path - path to pretrained model on your Google drive\n",
        "# img_path - path to target image. Change it to your path of uploaded files\n",
        "# swap_source - path to source face. Change it to your path of uploaded files\n",
        "\n",
        "facedancer_path = '/content/drive/MyDrive/model_zoo/FaceDancer_config_c_HQ.h5'\n",
        "\n",
        "swap_source = '/content/FaceDancer/image.jpg'\n",
        "img_path = '/content/FaceDancer/face.jpg'\n",
        "img_output = '/content/FaceDancer/swapped_image.jpg'\n",
        "\n",
        "!python -W ignore test_image_swap_multi.py --img_path {img_path} --swap_source {swap_source} --facedancer_path {facedancer_path} --img_output {img_output}"
      ]
    }
  ],
  "metadata": {
    "accelerator": "GPU",
    "colab": {
      "collapsed_sections": [
        "WgdGtYzHkp1y"
      ],
      "private_outputs": true,
      "provenance": []
    },
    "gpuClass": "standard",
    "kernelspec": {
      "display_name": "base",
      "language": "python",
      "name": "python3"
    },
    "language_info": {
      "name": "python",
      "version": "3.10.6"
    },
    "vscode": {
      "interpreter": {
        "hash": "f50171be29e85b23adf7215c834dfa6ed06349133a2488a73517ec278541c5a9"
      }
    }
  },
  "nbformat": 4,
  "nbformat_minor": 0
}
